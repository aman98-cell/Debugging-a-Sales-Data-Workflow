{
 "cells": [
  {
   "cell_type": "markdown",
   "id": "740d0831-d810-4985-86d2-a1efabbf669e",
   "metadata": {},
   "source": [
    "\n",
    "Sometimes, things that once worked perfectly suddenly hit a snag. This sales workflow is no exception. The `load_and_check()` function worked great until the last update. Now, along with new data, there seem to be some issues. You've been asked to check it out!\n",
    "\n",
    "The `load_and_check()` function loads the `sales.csv` dataset and proceeds to do some checks. First, it confirms that the dataset has the desired shape. Next, there are a couple of integrity checks designed to make sure that the data is consistent and that nothing suspicious is happening there. \n",
    "\n",
    "The `sales.csv` dataset contains several columns, but you should give special attention to these:\n",
    "`Total`: The total price, including 5% tax\n",
    "`Quantity`: Number of products purchased\n",
    "`Unit price`: Price of each product in USD\n",
    "`Tax`: 5% tax fee, calculated from the total price\n",
    "`Date`: Date of the purchase\n",
    "\n",
    "As you work on fixing the pipeline, try to keep as much of the original code as possible. If you need to change something in the data, create new columns and keep all original ones intact. Remember to update the `if` statements of checks if necessary!"
   ]
  },
  {
   "cell_type": "code",
   "execution_count": 1,
   "id": "64619d2f-1d45-418d-8ec6-37fd5db9a4c5",
   "metadata": {},
   "outputs": [
    {
     "name": "stdout",
     "output_type": "stream",
     "text": [
      "Please check that the data was loaded properly, different shape was expected.\n",
      "Data integrity check was succesful!\n"
     ]
    }
   ],
   "source": [
    "import pandas as pd\n",
    "import numpy as np\n",
    "\n",
    "def load_and_check():\n",
    "    data = pd.read_csv(\"C:\\\\Users\\\\lenovo\\\\PYTHON EDA COURSE\\\\sales.csv\")  \n",
    "    \n",
    "    # Step 1: Check the loaded data\n",
    "    \n",
    "    # Correct the string to a number\n",
    "    if data.shape[1] != \"17\":\n",
    "        print(\"Please check that the data was loaded properly, different shape was expected.\")\n",
    "    else:\n",
    "        print(\"Data loaded succesfully.\")\n",
    "\n",
    "    # Step 2: Data integrity check\n",
    "    grouped_data = data.groupby(['Date'])['Total'].agg(['mean', 'std'])\n",
    "    grouped_data['threshold'] = 3 * grouped_data['std']\n",
    "    grouped_data['max'] = grouped_data['mean'] + grouped_data.threshold\n",
    "    grouped_data['min'] = grouped_data[['mean', 'threshold']].apply(lambda row: max(0, row['mean'] - row['threshold']), axis=1)\n",
    "    data = pd.merge(data, grouped_data, on='Date', how='left')\n",
    "    data['Condition_1'] = (data['Total'] >= data['min']) & (data['Total'] <= data['max'])\n",
    "    data['Condition_1'].fillna(False, inplace=True)\n",
    "\n",
    "    data['Condition_2'] = round(data['Quantity'] * data['Unit price'] + data['Tax'], 1) == round(data['Total'], 1)\n",
    "    \n",
    "    # Do any necessary changes below this comment and before the if statement\n",
    "    # You can change the if statement if you find it necessary\n",
    "    \n",
    "    if (data['Condition_1'].sum() != data.shape[0])&(data['Condition_2'].sum() != data.shape[0]):\n",
    "        print(\"Something fishy is going on with the data! Better check the pipeline!\")\n",
    "    else: \n",
    "        print(\"Data integrity check was succesful!\")\n",
    "        \n",
    "    return data\n",
    "\n",
    "data = load_and_check()"
   ]
  },
  {
   "cell_type": "code",
   "execution_count": null,
   "id": "93da47ff-8331-4a34-a1b6-82eaf9424306",
   "metadata": {},
   "outputs": [],
   "source": []
  }
 ],
 "metadata": {
  "colab": {
   "name": "Welcome to DataCamp Workspaces.ipynb",
   "provenance": []
  },
  "kernelspec": {
   "display_name": "Python 3 (ipykernel)",
   "language": "python",
   "name": "python3"
  },
  "language_info": {
   "codemirror_mode": {
    "name": "ipython",
    "version": 3
   },
   "file_extension": ".py",
   "mimetype": "text/x-python",
   "name": "python",
   "nbconvert_exporter": "python",
   "pygments_lexer": "ipython3",
   "version": "3.11.5"
  }
 },
 "nbformat": 4,
 "nbformat_minor": 5
}
